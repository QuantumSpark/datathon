{
 "cells": [
  {
   "cell_type": "code",
   "execution_count": 6,
   "metadata": {
    "collapsed": false
   },
   "outputs": [
    {
     "name": "stdout",
     "output_type": "stream",
     "text": [
      "['',\n",
      " '/Users/mohamedali/anaconda/lib/python27.zip',\n",
      " '/Users/mohamedali/anaconda/lib/python2.7',\n",
      " '/Users/mohamedali/anaconda/lib/python2.7/plat-darwin',\n",
      " '/Users/mohamedali/anaconda/lib/python2.7/plat-mac',\n",
      " '/Users/mohamedali/anaconda/lib/python2.7/plat-mac/lib-scriptpackages',\n",
      " '/Users/mohamedali/anaconda/lib/python2.7/lib-tk',\n",
      " '/Users/mohamedali/anaconda/lib/python2.7/lib-old',\n",
      " '/Users/mohamedali/anaconda/lib/python2.7/lib-dynload',\n",
      " '/Users/mohamedali/anaconda/lib/python2.7/site-packages',\n",
      " '/Users/mohamedali/anaconda/lib/python2.7/site-packages/Sphinx-1.4.1-py2.7.egg',\n",
      " '/Users/mohamedali/anaconda/lib/python2.7/site-packages/aeosa',\n",
      " '/Users/mohamedali/anaconda/lib/python2.7/site-packages/setuptools-23.0.0-py2.7.egg',\n",
      " '/Users/mohamedali/anaconda/lib/python2.7/site-packages/IPython/extensions',\n",
      " '/Users/mohamedali/.ipython']\n"
     ]
    },
    {
     "data": {
      "text/plain": [
       "'2.7.12 |Anaconda custom (x86_64)| (default, Jul  2 2016, 17:43:17) \\n[GCC 4.2.1 (Based on Apple Inc. build 5658) (LLVM build 2336.11.00)]'"
      ]
     },
     "execution_count": 6,
     "metadata": {},
     "output_type": "execute_result"
    }
   ],
   "source": [
    "import sys, pprint\n",
    "pprint.pprint(sys.path)\n",
    "sys.version"
   ]
  },
  {
   "cell_type": "code",
   "execution_count": 2,
   "metadata": {
    "collapsed": false
   },
   "outputs": [],
   "source": [
    "import pandas as pd\n",
    "from datetime import datetime"
   ]
  },
  {
   "cell_type": "code",
   "execution_count": null,
   "metadata": {
    "collapsed": true
   },
   "outputs": [],
   "source": [
    "collisionAllYears = []"
   ]
  },
  {
   "cell_type": "code",
   "execution_count": null,
   "metadata": {
    "collapsed": false
   },
   "outputs": [],
   "source": [
    "def read_concatenate_csv():\n",
    "    for i in xrange(1,7):\n",
    "        df = pd.read_csv(\"originalCsvFiles/collisionCsvFiles/collision201\"+str(i)+\".csv\")\n",
    "        collisionDataFrame = pd.DataFrame(df[df.INCIDENT_TYPE == \"Fatal/Injury Collision\"])\n",
    "        collisionAllYears.append(collisionDataFrame)"
   ]
  },
  {
   "cell_type": "code",
   "execution_count": null,
   "metadata": {
    "collapsed": false
   },
   "outputs": [],
   "source": [
    "read_concatenate_csv()\n",
    "len(collisionAllYears)"
   ]
  },
  {
   "cell_type": "code",
   "execution_count": null,
   "metadata": {
    "collapsed": true
   },
   "outputs": [],
   "source": [
    "dataFrameAllYears = pd.concat(collisionAllYears)"
   ]
  },
  {
   "cell_type": "code",
   "execution_count": null,
   "metadata": {
    "collapsed": false
   },
   "outputs": [],
   "source": [
    "dataFrameAllYears.shape\n",
    "dataFrameAllYears.to_csv(\"crimeAllYears.csv\", encoding='utf-8', index=False)"
   ]
  },
  {
   "cell_type": "code",
   "execution_count": null,
   "metadata": {
    "collapsed": false
   },
   "outputs": [],
   "source": [
    "crimeAllYears = pd.read_csv(\"crimeAllYears.csv\")"
   ]
  },
  {
   "cell_type": "code",
   "execution_count": null,
   "metadata": {
    "collapsed": false
   },
   "outputs": [],
   "source": [
    "crimeAllYears.shape"
   ]
  },
  {
   "cell_type": "code",
   "execution_count": null,
   "metadata": {
    "collapsed": false
   },
   "outputs": [],
   "source": [
    "def get_long_lat(address):\n",
    "    latit = 45.22\n",
    "    longtit = 23.1212\n",
    "    return (latit, longtit)"
   ]
  },
  {
   "cell_type": "code",
   "execution_count": null,
   "metadata": {
    "collapsed": false
   },
   "outputs": [],
   "source": [
    "for index, row in crimeAllYears.iterrows():\n",
    "    #location = row[\"HUNDRED_BLOCK\"]\n",
    "    latit, longtit = get_long_lat(row[\"HUNDRED_BLOCK\"])\n",
    "    crimeAllYears.set_value(index,'Latitude', latit)\n",
    "    crimeAllYears.set_value(index,'Longitude', longtit)"
   ]
  },
  {
   "cell_type": "code",
   "execution_count": null,
   "metadata": {
    "collapsed": true
   },
   "outputs": [],
   "source": []
  },
  {
   "cell_type": "code",
   "execution_count": null,
   "metadata": {
    "collapsed": false
   },
   "outputs": [],
   "source": []
  },
  {
   "cell_type": "code",
   "execution_count": null,
   "metadata": {
    "collapsed": false
   },
   "outputs": [],
   "source": [
    "collisionDataFrame.to_csv(\"crimeFiltered2011.csv\", encoding='utf-8', index=False)"
   ]
  },
  {
   "cell_type": "code",
   "execution_count": null,
   "metadata": {
    "collapsed": false
   },
   "outputs": [],
   "source": [
    "crimes = pd.read_csv(\"crimeFiltered2011.csv\")"
   ]
  },
  {
   "cell_type": "code",
   "execution_count": null,
   "metadata": {
    "collapsed": false
   },
   "outputs": [],
   "source": [
    "crimes.shape"
   ]
  },
  {
   "cell_type": "code",
   "execution_count": null,
   "metadata": {
    "collapsed": false
   },
   "outputs": [],
   "source": [
    "crimes.head()"
   ]
  },
  {
   "cell_type": "code",
   "execution_count": null,
   "metadata": {
    "collapsed": false
   },
   "outputs": [],
   "source": [
    "crimes.shape"
   ]
  },
  {
   "cell_type": "code",
   "execution_count": null,
   "metadata": {
    "collapsed": true
   },
   "outputs": [],
   "source": []
  }
 ],
 "metadata": {
  "anaconda-cloud": {},
  "kernelspec": {
   "display_name": "python3.5",
   "language": "python",
   "name": "python3.5"
  },
  "language_info": {
   "codemirror_mode": {
    "name": "ipython",
    "version": 2
   },
   "file_extension": ".py",
   "mimetype": "text/x-python",
   "name": "python",
   "nbconvert_exporter": "python",
   "pygments_lexer": "ipython2",
   "version": "2.7.12"
  }
 },
 "nbformat": 4,
 "nbformat_minor": 0
}
